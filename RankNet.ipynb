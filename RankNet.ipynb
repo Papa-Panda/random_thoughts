{
  "nbformat": 4,
  "nbformat_minor": 0,
  "metadata": {
    "colab": {
      "provenance": [],
      "authorship_tag": "ABX9TyNuWwSbNlw+24rDz8N3f4cq",
      "include_colab_link": true
    },
    "kernelspec": {
      "name": "python3",
      "display_name": "Python 3"
    },
    "language_info": {
      "name": "python"
    }
  },
  "cells": [
    {
      "cell_type": "markdown",
      "metadata": {
        "id": "view-in-github",
        "colab_type": "text"
      },
      "source": [
        "<a href=\"https://colab.research.google.com/github/Papa-Panda/random_thoughts/blob/main/RankNet.ipynb\" target=\"_parent\"><img src=\"https://colab.research.google.com/assets/colab-badge.svg\" alt=\"Open In Colab\"/></a>"
      ]
    },
    {
      "cell_type": "code",
      "execution_count": 1,
      "metadata": {
        "id": "WdkM4KhsmRMb"
      },
      "outputs": [],
      "source": [
        "import torch\n",
        "import torch.nn as nn\n",
        "import torch.optim as optim\n",
        "\n",
        "class RankNet(nn.Module):\n",
        "    def __init__(self, input_size):\n",
        "        super(RankNet, self).__init__()\n",
        "        self.fc = nn.Linear(input_size, 1)\n",
        "\n",
        "    def forward(self, x):\n",
        "        return self.fc(x)\n",
        "\n",
        "def pairwise_ranking_loss(scores_i, scores_j, target_i, target_j):\n",
        "    # Compute the pairwise ranking loss\n",
        "    diff = scores_i - scores_j\n",
        "    exp_diff = torch.exp(-diff)\n",
        "    loss = target_i * diff + torch.log(1 + exp_diff)\n",
        "    return torch.mean(loss)\n"
      ]
    },
    {
      "cell_type": "code",
      "source": [
        "# Example usage\n",
        "# Let's assume we have input data `X`, targets `y`, and pairwise ranking information `pairs`.\n",
        "\n",
        "# Generate some dummy data\n",
        "X = torch.randn((100, 10))  # 100 samples, 10 features\n",
        "y = torch.randint(0, 2, (100,))  # Binary labels (0 or 1)\n",
        "pairs = torch.randint(0, 2, (100, 100))  # Binary pairwise ranking information (0 or 1)\n",
        "\n",
        "# Extract indices for pairs\n",
        "i, j = torch.where(pairs == 1)\n",
        "\n",
        "# Use the indices to create X_i and X_j\n",
        "X_i = X[i]\n",
        "X_j = X[j]\n",
        "y_i = y[i]\n",
        "y_j = y[j]\n",
        "\n",
        "\n",
        "# Model initialization\n",
        "input_size = X.shape[1]\n",
        "model = RankNet(input_size)\n",
        "\n",
        "# Loss and optimizer\n",
        "criterion = nn.BCEWithLogitsLoss()\n",
        "optimizer = optim.Adam(model.parameters(), lr=0.001)\n",
        "\n",
        "# Training loop\n",
        "num_epochs = 1000\n",
        "for epoch in range(num_epochs):\n",
        "    optimizer.zero_grad()\n",
        "\n",
        "    # Forward pass\n",
        "    scores_i = model(X_i)\n",
        "    scores_j = model(X_j)\n",
        "\n",
        "    # Compute the pairwise ranking loss\n",
        "    loss = pairwise_ranking_loss(scores_i, scores_j, y_i, y_j)\n",
        "\n",
        "    # Backward pass and optimization\n",
        "    loss.backward()\n",
        "    optimizer.step()\n",
        "\n",
        "    # Print loss\n",
        "    if (epoch + 1) % 100 == 0:\n",
        "        print(f'Epoch [{epoch + 1}/{num_epochs}], Loss: {loss.item():.4f}')\n",
        "\n",
        "# After training, you can use the trained model for predictions\n",
        "# For example:\n",
        "with torch.no_grad():\n",
        "    test_data = torch.randn((10, 10))  # Test data with 10 samples\n",
        "    predictions = model(test_data)\n",
        "\n",
        "# Note: This is a basic example, and in a real-world scenario, you may need to adjust the architecture, hyperparameters, and incorporate proper data preprocessing and validation procedures.\n"
      ],
      "metadata": {
        "colab": {
          "base_uri": "https://localhost:8080/"
        },
        "id": "ExuMVdkbmURv",
        "outputId": "d2595474-fa4e-4dc3-d314-b272e4652de8"
      },
      "execution_count": null,
      "outputs": [
        {
          "output_type": "stream",
          "name": "stdout",
          "text": [
            "Epoch [100/1000], Loss: 0.7386\n"
          ]
        }
      ]
    },
    {
      "cell_type": "code",
      "source": [],
      "metadata": {
        "id": "V1hNMPW0mU5k"
      },
      "execution_count": 3,
      "outputs": []
    },
    {
      "cell_type": "code",
      "source": [],
      "metadata": {
        "id": "YbebMIAym75F"
      },
      "execution_count": null,
      "outputs": []
    }
  ]
}