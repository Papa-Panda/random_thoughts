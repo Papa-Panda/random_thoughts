{
  "nbformat": 4,
  "nbformat_minor": 0,
  "metadata": {
    "colab": {
      "provenance": [],
      "authorship_tag": "ABX9TyPIwpNVdehU9PZ1GXb91G9/",
      "include_colab_link": true
    },
    "kernelspec": {
      "name": "python3",
      "display_name": "Python 3"
    },
    "language_info": {
      "name": "python"
    }
  },
  "cells": [
    {
      "cell_type": "markdown",
      "metadata": {
        "id": "view-in-github",
        "colab_type": "text"
      },
      "source": [
        "<a href=\"https://colab.research.google.com/github/Papa-Panda/random_thoughts/blob/main/Thompson_Sampling.ipynb\" target=\"_parent\"><img src=\"https://colab.research.google.com/assets/colab-badge.svg\" alt=\"Open In Colab\"/></a>"
      ]
    },
    {
      "cell_type": "code",
      "execution_count": null,
      "metadata": {
        "id": "6LKQkWo04Kfg",
        "outputId": "a5dddee1-26a3-40ad-8b0b-8dae8519f33a",
        "colab": {
          "base_uri": "https://localhost:8080/"
        }
      },
      "outputs": [
        {
          "output_type": "stream",
          "name": "stdout",
          "text": [
            "Total pulls for Arm 1: 968\n",
            "Total pulls for Arm 2: 32\n",
            "Total successes for Arm 1: 664\n",
            "Total successes for Arm 2: 16\n"
          ]
        }
      ],
      "source": [
        "import numpy as np\n",
        "\n",
        "# Parameters for the two arms (reward distributions)\n",
        "true_mean_arm1 = 0.7\n",
        "true_mean_arm2 = 0.5\n",
        "\n",
        "# Number of iterations\n",
        "num_iterations = 1000\n",
        "\n",
        "# Initialize variables to track the number of times each arm was pulled and the number of successes\n",
        "num_pulls_arm1 = 0\n",
        "num_pulls_arm2 = 0\n",
        "num_success_arm1 = 0\n",
        "num_success_arm2 = 0\n",
        "\n",
        "# Main loop\n",
        "for _ in range(num_iterations):\n",
        "    # Sample from the posterior distribution of each arm\n",
        "    sampled_mean_arm1 = np.random.beta(num_success_arm1 + 1, num_pulls_arm1 - num_success_arm1 + 1)\n",
        "    sampled_mean_arm2 = np.random.beta(num_success_arm2 + 1, num_pulls_arm2 - num_success_arm2 + 1)\n",
        "\n",
        "    # Choose the arm with the highest sampled mean\n",
        "    if sampled_mean_arm1 > sampled_mean_arm2:\n",
        "        chosen_arm = 1\n",
        "    else:\n",
        "        chosen_arm = 2\n",
        "\n",
        "    # Simulate pulling the chosen arm and receiving a reward\n",
        "    if chosen_arm == 1:\n",
        "        reward = np.random.random() < true_mean_arm1\n",
        "        num_pulls_arm1 += 1\n",
        "        num_success_arm1 += reward\n",
        "    else:\n",
        "        reward = np.random.random() < true_mean_arm2\n",
        "        num_pulls_arm2 += 1\n",
        "        num_success_arm2 += reward\n",
        "\n",
        "# Print results\n",
        "print(\"Total pulls for Arm 1:\", num_pulls_arm1)\n",
        "print(\"Total pulls for Arm 2:\", num_pulls_arm2)\n",
        "print(\"Total successes for Arm 1:\", num_success_arm1)\n",
        "print(\"Total successes for Arm 2:\", num_success_arm2)\n"
      ]
    },
    {
      "cell_type": "code",
      "source": [],
      "metadata": {
        "id": "No67rftq4ObB"
      },
      "execution_count": null,
      "outputs": []
    }
  ]
}