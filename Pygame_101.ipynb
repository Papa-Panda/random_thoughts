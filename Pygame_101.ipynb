{
  "nbformat": 4,
  "nbformat_minor": 0,
  "metadata": {
    "colab": {
      "provenance": [],
      "authorship_tag": "ABX9TyOEFqbC745a0VYS/ihRfI5B",
      "include_colab_link": true
    },
    "kernelspec": {
      "name": "python3",
      "display_name": "Python 3"
    },
    "language_info": {
      "name": "python"
    }
  },
  "cells": [
    {
      "cell_type": "markdown",
      "metadata": {
        "id": "view-in-github",
        "colab_type": "text"
      },
      "source": [
        "<a href=\"https://colab.research.google.com/github/Papa-Panda/random_thoughts/blob/main/Pygame_101.ipynb\" target=\"_parent\"><img src=\"https://colab.research.google.com/assets/colab-badge.svg\" alt=\"Open In Colab\"/></a>"
      ]
    },
    {
      "cell_type": "code",
      "execution_count": 1,
      "metadata": {
        "colab": {
          "base_uri": "https://localhost:8080/",
          "height": 270
        },
        "id": "EEnr69OiyTJL",
        "outputId": "df3eab58-dca1-4b0b-9968-018743723671"
      },
      "outputs": [
        {
          "output_type": "stream",
          "name": "stdout",
          "text": [
            "pygame 2.3.0 (SDL 2.24.2, Python 3.9.16)\n",
            "Hello from the pygame community. https://www.pygame.org/contribute.html\n"
          ]
        },
        {
          "output_type": "error",
          "ename": "error",
          "evalue": "ignored",
          "traceback": [
            "\u001b[0;31m---------------------------------------------------------------------------\u001b[0m",
            "\u001b[0;31merror\u001b[0m                                     Traceback (most recent call last)",
            "\u001b[0;32m<ipython-input-1-f03db0029534>\u001b[0m in \u001b[0;36m<module>\u001b[0;34m\u001b[0m\n\u001b[1;32m     13\u001b[0m \u001b[0;34m\u001b[0m\u001b[0m\n\u001b[1;32m     14\u001b[0m \u001b[0;31m# 创建游戏界面\u001b[0m\u001b[0;34m\u001b[0m\u001b[0;34m\u001b[0m\u001b[0m\n\u001b[0;32m---> 15\u001b[0;31m \u001b[0mscreen\u001b[0m \u001b[0;34m=\u001b[0m \u001b[0mpygame\u001b[0m\u001b[0;34m.\u001b[0m\u001b[0mdisplay\u001b[0m\u001b[0;34m.\u001b[0m\u001b[0mset_mode\u001b[0m\u001b[0;34m(\u001b[0m\u001b[0;34m(\u001b[0m\u001b[0mscreen_width\u001b[0m\u001b[0;34m,\u001b[0m \u001b[0mscreen_height\u001b[0m\u001b[0;34m)\u001b[0m\u001b[0;34m)\u001b[0m\u001b[0;34m\u001b[0m\u001b[0;34m\u001b[0m\u001b[0m\n\u001b[0m\u001b[1;32m     16\u001b[0m \u001b[0mpygame\u001b[0m\u001b[0;34m.\u001b[0m\u001b[0mdisplay\u001b[0m\u001b[0;34m.\u001b[0m\u001b[0mset_caption\u001b[0m\u001b[0;34m(\u001b[0m\u001b[0;34m'贪吃蛇'\u001b[0m\u001b[0;34m)\u001b[0m\u001b[0;34m\u001b[0m\u001b[0;34m\u001b[0m\u001b[0m\n\u001b[1;32m     17\u001b[0m \u001b[0;34m\u001b[0m\u001b[0m\n",
            "\u001b[0;31merror\u001b[0m: No available video device"
          ]
        }
      ],
      "source": [
        "import pygame\n",
        "import random\n",
        "\n",
        "# 初始化Pygame模块\n",
        "pygame.init()\n",
        "\n",
        "# 定义游戏界面的大小\n",
        "screen_width = 640\n",
        "screen_height = 480\n",
        "\n",
        "# 定义贪吃蛇和食物的大小\n",
        "block_size = 20\n",
        "\n",
        "# 创建游戏界面\n",
        "screen = pygame.display.set_mode((screen_width, screen_height))\n",
        "pygame.display.set_caption('贪吃蛇')\n",
        "\n",
        "# 定义颜色\n",
        "white = (255, 255, 255)\n",
        "black = (0, 0, 0)\n",
        "red = (255, 0, 0)\n",
        "\n",
        "# 创建游戏时钟\n",
        "clock = pygame.time.Clock()\n",
        "\n",
        "# 定义函数：显示文字\n",
        "def draw_text(text, font_size, color, x, y):\n",
        "    font = pygame.font.Font(None, font_size)\n",
        "    text = font.render(text, True, color)\n",
        "    screen.blit(text, (x, y))\n",
        "\n",
        "# 定义函数：绘制方块\n",
        "def draw_block(color, x, y):\n",
        "    pygame.draw.rect(screen, color, (x, y, block_size, block_size))\n",
        "\n",
        "# 定义函数：运行游戏\n",
        "def run_game():\n",
        "    # 初始化贪吃蛇\n",
        "    snake_pos = [[screen_width / 2, screen_height / 2]]\n",
        "    snake_direction = 'right'\n",
        "    snake_length = 1\n",
        "\n",
        "    # 初始化食物\n",
        "    food_pos = [random.randint(0, screen_width / block_size - 1) * block_size, random.randint(0, screen_height / block_size - 1) * block_size]\n",
        "\n",
        "    # 游戏循环\n",
        "    while True:\n",
        "        # 处理事件\n",
        "        for event in pygame.event.get():\n",
        "            if event.type == pygame.QUIT:\n",
        "                pygame.quit()\n",
        "                quit()\n",
        "            elif event.type == pygame.KEYDOWN:\n",
        "                if event.key == pygame.K_UP and snake_direction != 'down':\n",
        "                    snake_direction = 'up'\n",
        "                elif event.key == pygame.K_DOWN and snake_direction != 'up':\n",
        "                    snake_direction = 'down'\n",
        "                elif event.key == pygame.K_LEFT and snake_direction != 'right':\n",
        "                    snake_direction = 'left'\n",
        "                elif event.key == pygame.K_RIGHT and snake_direction != 'left':\n",
        "                    snake_direction = 'right'\n",
        "\n",
        "        # 移动贪吃蛇\n",
        "        if snake_direction == 'up':\n",
        "            snake_pos[0][1] -= block_size\n",
        "        elif snake_direction == 'down':\n",
        "            snake_pos[0][1] += block_size\n",
        "        elif snake_direction == 'left':\n",
        "            snake_pos[0][0] -= block_size\n",
        "        elif snake_direction == 'right':\n",
        "            snake_pos[0][0] += block_size\n",
        "\n",
        "        # 判断是否吃到食物\n",
        "        if snake_pos[0] == food_pos:\n",
        "            snake_pos.append(snake_pos[-1])\n",
        "            food_pos = [random.randint(0, screen_width / block_size - 1) * block_size, random.randint(0, screen_height / block_size - 1) * block_size]\n",
        "            snake_length += 1\n",
        "\n",
        "        # 判断是否撞到边界或自己\n",
        "        if snake_pos[0][0] < 0 or snake_pos[0][0] >= screen_width or snake_pos[0][1] < 0 or snake_pos[0][1] >= screen_height or snake_pos[0] in snake_pos[1:]:\n",
        "            draw_text('游戏结束', 64, red, screen_width / 2 - 160, screen_height / 2 - 32)\n",
        "            pygame.display.update()\n",
        "            pygame.time.wait(2000)\n",
        "            return\n",
        "\n",
        "    # 绘制游戏界面\n",
        "    screen.fill(white)\n",
        "    draw_block(black, food_pos[0], food_pos[1])\n",
        "    for pos in snake_pos:\n",
        "        draw_block(black, pos[0], pos[1])\n",
        "    draw_text('得分：{}'.format(snake_length - 1), 32, black, 10, 10)\n",
        "    pygame.display.update()\n",
        "\n",
        "    # 控制游戏速度\n",
        "    clock.tick(10)\n",
        "\n"
      ]
    },
    {
      "cell_type": "code",
      "source": [
        "run_game()"
      ],
      "metadata": {
        "colab": {
          "base_uri": "https://localhost:8080/",
          "height": 166
        },
        "id": "vhnzeMsgyhNS",
        "outputId": "95484758-6885-4f24-9948-594aaedb79f2"
      },
      "execution_count": 5,
      "outputs": [
        {
          "output_type": "error",
          "ename": "NameError",
          "evalue": "ignored",
          "traceback": [
            "\u001b[0;31m---------------------------------------------------------------------------\u001b[0m",
            "\u001b[0;31mNameError\u001b[0m                                 Traceback (most recent call last)",
            "\u001b[0;32m<ipython-input-5-901c44b21ed3>\u001b[0m in \u001b[0;36m<module>\u001b[0;34m\u001b[0m\n\u001b[0;32m----> 1\u001b[0;31m \u001b[0mrun_game\u001b[0m\u001b[0;34m(\u001b[0m\u001b[0;34m)\u001b[0m\u001b[0;34m\u001b[0m\u001b[0;34m\u001b[0m\u001b[0m\n\u001b[0m",
            "\u001b[0;31mNameError\u001b[0m: name 'run_game' is not defined"
          ]
        }
      ]
    },
    {
      "cell_type": "code",
      "source": [
        "pygame.quit()"
      ],
      "metadata": {
        "id": "pf8uwAWLylKM"
      },
      "execution_count": 3,
      "outputs": []
    },
    {
      "cell_type": "code",
      "source": [
        "# \n",
        "# 这只是一个简单的实现，你可以根据自己的需要进行修改和完善。如果你想了解更多有关Pygame模块的内容，可以查看Pygame官方文档。\n"
      ],
      "metadata": {
        "id": "AZJmtGgBysya"
      },
      "execution_count": 4,
      "outputs": []
    },
    {
      "cell_type": "code",
      "source": [],
      "metadata": {
        "id": "yIapC_C0ywQt"
      },
      "execution_count": 6,
      "outputs": []
    },
    {
      "cell_type": "code",
      "source": [],
      "metadata": {
        "id": "4KDAVvrLzAWZ"
      },
      "execution_count": null,
      "outputs": []
    }
  ]
}